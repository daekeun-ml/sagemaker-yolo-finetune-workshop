{
 "cells": [
  {
   "cell_type": "markdown",
   "metadata": {},
   "source": [
    "# Yolo3 Finetuning with AWS\n",
    "\n",
    "This series of notebooks demonstrates how to finetune pretrained YOLO v3 (aka YOLO3) using MXNet on AWS.\n",
    "\n",
    "**This notebook** walks through using the [SageMaker Hyperparameter Tuning Job](https://docs.aws.amazon.com/sagemaker/latest/dg/automatic-model-tuning-how-it-works.html) tool to finding optmized hypterparameter and finetune the model."
   ]
  },
  {
   "cell_type": "markdown",
   "metadata": {},
   "source": [
    "**Follow-on** the content of the notebooks shows:\n",
    "\n",
    "* How to use MXNet YOLO3 pretrained model\n",
    "* How to create Ground-Truth dataset from images the model mis-detected\n",
    "* How to finetune the model using the created dataset\n",
    "* Load your finetuned model and Deploy Sagemaker-Endpoint with it.\n",
    "* Apply Elastic Inference to your endpoint.\n",
    "\n",
    "## Pre-requisites\n",
    "\n",
    "This notebook is designed to be run in Amazon SageMaker. To run it (and understand what's going on), you'll need:\n",
    "\n",
    "* Basic familiarity with Python, [MXNet](https://mxnet.apache.org/), [AWS S3](https://docs.aws.amazon.com/s3/index.html), [Amazon Sagemaker](https://aws.amazon.com/sagemaker/)\n",
    "* To create an **S3 bucket** in the same region, and ensure the SageMaker notebook's role has access to this bucket.\n",
    "* Sufficient [SageMaker quota limits](https://docs.aws.amazon.com/general/latest/gr/aws_service_limits.html#limits_sagemaker) set on your account to run GPU-accelerated spot training jobs.\n",
    "\n",
    "## Cost and runtime\n",
    "\n",
    "Depending on your configuration, this demo may consume resources outside of the free tier but should not generally be expensive because we'll be training on a small number of images. You might wish to review the following for your region:\n",
    "\n",
    "* [Amazon SageMaker pricing](https://aws.amazon.com/sagemaker/pricing/)\n",
    "\n",
    "The standard `ml.t2.medium` instance should be sufficient to run the notebooks.\n",
    "\n",
    "We will use GPU-accelerated instance types for training and hyperparameter optimization, and use spot instances where appropriate to optimize these costs.\n",
    "\n",
    "As noted in the step-by-step guidance, you should take particular care to delete any created SageMaker real-time prediction endpoints when finishing the demo."
   ]
  },
  {
   "cell_type": "markdown",
   "metadata": {},
   "source": [
    "# Step 0: Dependencies and configuration\n",
    "\n",
    "As usual we'll start by loading libraries, defining configuration, and connecting to the AWS SDKs:"
   ]
  },
  {
   "cell_type": "code",
   "execution_count": 7,
   "metadata": {},
   "outputs": [
    {
     "name": "stdout",
     "output_type": "stream",
     "text": [
      "The autoreload extension is already loaded. To reload it, use:\n",
      "  %reload_ext autoreload\n"
     ]
    }
   ],
   "source": [
    "%load_ext autoreload\n",
    "%autoreload 1\n",
    "\n",
    "# Built-Ins:\n",
    "import os\n",
    "import json\n",
    "from datetime import datetime\n",
    "from glob import glob\n",
    "from pprint import pprint\n",
    "from base64 import b64encode, b64decode\n",
    "from matplotlib import pyplot as plt\n",
    "\n",
    "# External Dependencies:\n",
    "import boto3\n",
    "import sagemaker\n",
    "import numpy as np\n",
    "from sagemaker.mxnet import MXNet\n",
    "from gluoncv.utils import download, viz\n",
    "from botocore.exceptions import ClientError"
   ]
  },
  {
   "cell_type": "code",
   "execution_count": 17,
   "metadata": {},
   "outputs": [],
   "source": [
    "%store -r"
   ]
  },
  {
   "cell_type": "code",
   "execution_count": 23,
   "metadata": {},
   "outputs": [],
   "source": [
    "iam = boto3.client('iam')\n",
    "role = iam.get_role(RoleName=role_name)['Role']['Arn']"
   ]
  },
  {
   "cell_type": "markdown",
   "metadata": {},
   "source": [
    "## Step 1: Get best job informations "
   ]
  },
  {
   "cell_type": "code",
   "execution_count": 12,
   "metadata": {},
   "outputs": [
    {
     "data": {
      "text/html": [
       "<div>\n",
       "<style scoped>\n",
       "    .dataframe tbody tr th:only-of-type {\n",
       "        vertical-align: middle;\n",
       "    }\n",
       "\n",
       "    .dataframe tbody tr th {\n",
       "        vertical-align: top;\n",
       "    }\n",
       "\n",
       "    .dataframe thead th {\n",
       "        text-align: right;\n",
       "    }\n",
       "</style>\n",
       "<table border=\"1\" class=\"dataframe\">\n",
       "  <thead>\n",
       "    <tr style=\"text-align: right;\">\n",
       "      <th></th>\n",
       "      <th>lr</th>\n",
       "      <th>momentum</th>\n",
       "      <th>optimizer</th>\n",
       "      <th>wd</th>\n",
       "      <th>TrainingJobName</th>\n",
       "      <th>TrainingJobStatus</th>\n",
       "      <th>FinalObjectiveValue</th>\n",
       "      <th>TrainingStartTime</th>\n",
       "      <th>TrainingEndTime</th>\n",
       "      <th>TrainingElapsedTimeSeconds</th>\n",
       "    </tr>\n",
       "  </thead>\n",
       "  <tbody>\n",
       "    <tr>\n",
       "      <th>9</th>\n",
       "      <td>0.000218</td>\n",
       "      <td>0.885406</td>\n",
       "      <td>\"adam\"</td>\n",
       "      <td>0.967501</td>\n",
       "      <td>yolo-htj-batch-0-200316-1644-015-2493e60c</td>\n",
       "      <td>Completed</td>\n",
       "      <td>7.664004</td>\n",
       "      <td>2020-03-16 17:18:30+09:00</td>\n",
       "      <td>2020-03-16 17:23:09+09:00</td>\n",
       "      <td>279.0</td>\n",
       "    </tr>\n",
       "    <tr>\n",
       "      <th>6</th>\n",
       "      <td>0.000349</td>\n",
       "      <td>0.735787</td>\n",
       "      <td>\"sgd\"</td>\n",
       "      <td>0.981868</td>\n",
       "      <td>yolo-htj-batch-0-200316-1644-018-0d72777e</td>\n",
       "      <td>Completed</td>\n",
       "      <td>7.828395</td>\n",
       "      <td>2020-03-16 17:26:49+09:00</td>\n",
       "      <td>2020-03-16 17:31:11+09:00</td>\n",
       "      <td>262.0</td>\n",
       "    </tr>\n",
       "    <tr>\n",
       "      <th>4</th>\n",
       "      <td>0.000132</td>\n",
       "      <td>0.976250</td>\n",
       "      <td>\"sgd\"</td>\n",
       "      <td>0.208593</td>\n",
       "      <td>yolo-htj-batch-0-200316-1644-020-c4d5fd9f</td>\n",
       "      <td>Completed</td>\n",
       "      <td>8.670670</td>\n",
       "      <td>2020-03-16 17:33:35+09:00</td>\n",
       "      <td>2020-03-16 17:37:52+09:00</td>\n",
       "      <td>257.0</td>\n",
       "    </tr>\n",
       "  </tbody>\n",
       "</table>\n",
       "</div>"
      ],
      "text/plain": [
       "         lr  momentum optimizer        wd  \\\n",
       "9  0.000218  0.885406    \"adam\"  0.967501   \n",
       "6  0.000349  0.735787     \"sgd\"  0.981868   \n",
       "4  0.000132  0.976250     \"sgd\"  0.208593   \n",
       "\n",
       "                             TrainingJobName TrainingJobStatus  \\\n",
       "9  yolo-htj-batch-0-200316-1644-015-2493e60c         Completed   \n",
       "6  yolo-htj-batch-0-200316-1644-018-0d72777e         Completed   \n",
       "4  yolo-htj-batch-0-200316-1644-020-c4d5fd9f         Completed   \n",
       "\n",
       "   FinalObjectiveValue         TrainingStartTime           TrainingEndTime  \\\n",
       "9             7.664004 2020-03-16 17:18:30+09:00 2020-03-16 17:23:09+09:00   \n",
       "6             7.828395 2020-03-16 17:26:49+09:00 2020-03-16 17:31:11+09:00   \n",
       "4             8.670670 2020-03-16 17:33:35+09:00 2020-03-16 17:37:52+09:00   \n",
       "\n",
       "   TrainingElapsedTimeSeconds  \n",
       "9                       279.0  \n",
       "6                       262.0  \n",
       "4                       257.0  "
      ]
     },
     "execution_count": 12,
     "metadata": {},
     "output_type": "execute_result"
    }
   ],
   "source": [
    "analytics = sagemaker.HyperparameterTuningJobAnalytics(training_job_name)\n",
    "df = analytics.dataframe().sort_values('FinalObjectiveValue')\n",
    "df[:3]"
   ]
  },
  {
   "cell_type": "code",
   "execution_count": 16,
   "metadata": {},
   "outputs": [
    {
     "name": "stdout",
     "output_type": "stream",
     "text": [
      "yolo-htj-batch-0-200316-1644-015-2493e60c\n",
      "Stored 'best_job_name' (str)\n"
     ]
    }
   ],
   "source": [
    "best_job_name = df.iloc[0]['TrainingJobName']\n",
    "print(best_job_name)\n",
    "%store best_job_name"
   ]
  },
  {
   "cell_type": "markdown",
   "metadata": {},
   "source": [
    "## Step 2: Create Sagemaker Model"
   ]
  },
  {
   "cell_type": "code",
   "execution_count": 20,
   "metadata": {},
   "outputs": [
    {
     "name": "stdout",
     "output_type": "stream",
     "text": [
      "Stored 'model_name' (str)\n"
     ]
    }
   ],
   "source": [
    "model_name = 'yolo-model-0'\n",
    "%store model_name"
   ]
  },
  {
   "cell_type": "code",
   "execution_count": 18,
   "metadata": {},
   "outputs": [
    {
     "data": {
      "text/plain": [
       "'s3://sagemaker-ap-northeast-2-929831892372/models'"
      ]
     },
     "execution_count": 18,
     "metadata": {},
     "output_type": "execute_result"
    }
   ],
   "source": [
    "model_output_path"
   ]
  },
  {
   "cell_type": "code",
   "execution_count": 24,
   "metadata": {},
   "outputs": [],
   "source": [
    "mxnet_model = sagemaker.mxnet.model.MXNetModel(\n",
    "    name=model_name,\n",
    "    model_data=f'{model_output_path}/{best_job_name}/output/model.tar.gz', \n",
    "    role=role, \n",
    "    entry_point='inference_cpu.py',\n",
    "    source_dir='src',\n",
    "    framework_version='1.4.1',\n",
    "    py_version='py3',\n",
    ")"
   ]
  },
  {
   "cell_type": "markdown",
   "metadata": {},
   "source": [
    "## Step 3: Deploy Model"
   ]
  },
  {
   "cell_type": "code",
   "execution_count": null,
   "metadata": {},
   "outputs": [],
   "source": [
    "predictor = mxnet_model.deploy(\n",
    "    instance_type='ml.c5.xlarge', initial_instance_count=1\n",
    ")"
   ]
  },
  {
   "cell_type": "markdown",
   "metadata": {},
   "source": [
    "## Step 4: Invoke Sagemaker Endpoint"
   ]
  },
  {
   "cell_type": "code",
   "execution_count": 8,
   "metadata": {},
   "outputs": [],
   "source": [
    "bimage = None\n",
    "download('https://sportshub.cbsistatic.com/i/r/2019/11/15/10869f78-1378-4aa5-b36b-085607ae3387/thumbnail/770x433/f3276ac966a56b7cb45987869098cddb/lionel-messi-argentina-brazil.jpg', path='soccer.jpg')\n",
    "with open('soccer.jpg', 'rb') as fp:\n",
    "    bimage = fp.read()\n",
    "s = b64encode(bimage).decode('utf-8')"
   ]
  },
  {
   "cell_type": "code",
   "execution_count": null,
   "metadata": {},
   "outputs": [],
   "source": [
    "%%time\n",
    "res = predictor.predict({\n",
    "    'short': 416,\n",
    "    'image': s\n",
    "})\n",
    "print(res['shape'])"
   ]
  },
  {
   "cell_type": "code",
   "execution_count": null,
   "metadata": {},
   "outputs": [],
   "source": [
    "ax = viz.plot_bbox(mx.image.imresize(mx.image.imdecode(bimage), 492, 416), mx.nd.array(res['bbox']), mx.nd.array(res['score']), mx.nd.array(res['cid']), class_names=['person'])"
   ]
  },
  {
   "cell_type": "markdown",
   "metadata": {},
   "source": [
    "## Step5: Invoke custom Endpoint (Optional)\n",
    "\n",
    "get predictor by name and invoke endpoint"
   ]
  },
  {
   "cell_type": "code",
   "execution_count": 2,
   "metadata": {},
   "outputs": [],
   "source": [
    "def serializer(data): \n",
    "    return json.dumps(data).encode('utf-8')\n",
    "\n",
    "def deserializer(body, content_type):\n",
    "    return json.loads(body.read().decode('utf-8'))"
   ]
  },
  {
   "cell_type": "code",
   "execution_count": null,
   "metadata": {},
   "outputs": [],
   "source": [
    "predictor = sagemaker.predictor.RealTimePredictor(\n",
    "    endpoint='yolo-model-0',\n",
    "    content_type='application/json', \n",
    "    accept='application/json',\n",
    "    serializer=serializer,\n",
    "    deserializer=deserializer,\n",
    ")"
   ]
  },
  {
   "cell_type": "code",
   "execution_count": null,
   "metadata": {},
   "outputs": [],
   "source": [
    "%%time\n",
    "res = predictor.predict({\n",
    "    'short': 416,\n",
    "    'image': s\n",
    "})\n",
    "print(res['shape'])"
   ]
  },
  {
   "cell_type": "code",
   "execution_count": null,
   "metadata": {},
   "outputs": [],
   "source": [
    "ax = viz.plot_bbox(mx.image.imresize(mx.image.imdecode(bimage), 492, 416), mx.nd.array(res['bbox']), mx.nd.array(res['score']), mx.nd.array(res['cid']), class_names=['person'])"
   ]
  }
 ],
 "metadata": {
  "kernelspec": {
   "display_name": "Python 3",
   "language": "python",
   "name": "python3"
  },
  "language_info": {
   "codemirror_mode": {
    "name": "ipython",
    "version": 3
   },
   "file_extension": ".py",
   "mimetype": "text/x-python",
   "name": "python",
   "nbconvert_exporter": "python",
   "pygments_lexer": "ipython3",
   "version": "3.7.4"
  }
 },
 "nbformat": 4,
 "nbformat_minor": 2
}
